{
 "cells": [
  {
   "cell_type": "code",
   "execution_count": 29,
   "id": "47b9a304-7f0f-4fdd-89f3-5c5289a5210d",
   "metadata": {
    "tags": []
   },
   "outputs": [],
   "source": [
    "import boto3, json, os\n",
    "from pathlib import Path\n",
    "from config import toolConfig\n",
    "from aind_data_access_api.document_db import MetadataDbClient\n",
    "from botocore.exceptions import ClientError"
   ]
  },
  {
   "cell_type": "code",
   "execution_count": 30,
   "id": "3fbc9c1a-913d-4523-94a7-6ef96b7fb558",
   "metadata": {
    "tags": []
   },
   "outputs": [],
   "source": [
    "client = boto3.client(\"bedrock-runtime\", region_name=\"us-west-2\")\n",
    "model_id = \"anthropic.claude-3-sonnet-20240229-v1:0\"\n",
    "bedrock = boto3.client(\n",
    "    service_name=\"bedrock-runtime\",\n",
    "    region_name = 'us-west-2'\n",
    ")"
   ]
  },
  {
   "cell_type": "code",
   "execution_count": 31,
   "id": "0e69b19e-fe4a-40d3-87f5-82ab9958c4ea",
   "metadata": {
    "tags": []
   },
   "outputs": [],
   "source": [
    "def get_completion(prompt, system_prompt=None, prefill=None):\n",
    "    \n",
    "    messages = [{\"role\": \"user\", \"content\": [{\"text\": prompt}]}]\n",
    "    \n",
    "    inference_config = {\n",
    "        \"temperature\": 0,\n",
    "        \"maxTokens\": 4000\n",
    "    }\n",
    "    toolConfig = {\n",
    "                  \"tools\": [\n",
    "                      {\n",
    "                      \"toolSpec\": {\n",
    "                          \"name\": \"print_summary\",\n",
    "                          \"description\": \"Print summary of JSON File.\",\n",
    "                          \"inputSchema\": {\n",
    "                              \"json\": {\n",
    "                                  \"type\": \"object\",\n",
    "                                  \"properties\": {\n",
    "                                      \"filter\": {\n",
    "                                          \"type\": \"string\",\n",
    "                                          \"description\": \"A MongoDB query to pass to the function\"\n",
    "                                      }\n",
    "                                  },\n",
    "                                  \"required\": [\"filter\"]\n",
    "                              }\n",
    "                          }\n",
    "                      }\n",
    "                      }\n",
    "                  ]\n",
    "                }\n",
    "\n",
    "    converse_api_params = {\n",
    "        \"modelId\": model_id,\n",
    "        \"messages\" : messages,\n",
    "        \"inferenceConfig\": inference_config,\n",
    "        \"toolConfig\": toolConfig\n",
    "    }\n",
    "    \n",
    "    if system_prompt:\n",
    "        converse_api_params[\"system\"] = [{\"text\": system_prompt}]\n",
    "    if prefill:\n",
    "        messages.append({\"role\": \"assistant\", \"content\": [{\"text\": prefill}]})\n",
    "        print(prefill)\n",
    "    try:\n",
    "        response = bedrock.converse(**converse_api_params)\n",
    "        print(response)\n",
    "        \n",
    "        response_message = response['output']['message']\n",
    "        \n",
    "        response_content_blocks = response_message['content']\n",
    "        \n",
    "        #Assistant reply including tool use \n",
    "        messages.append({\"role\": \"assistant\", \"content\": response_content_blocks})\n",
    "        \n",
    "        for content_block in response_content_blocks:\n",
    "            if 'toolUse' in content_block:\n",
    "                print(\"Stop Reason:\", response['stopReason'])\n",
    "                \n",
    "                tool_use = response_content_blocks[-1]\n",
    "                tool_id = tool_use['toolUse']['toolUseId']\n",
    "                tool_name = tool_use['toolUse']['name']\n",
    "                tool_inputs = tool_use['toolUse']['input']\n",
    "\n",
    "                #tool_use_block = content_block['toolUse']\n",
    "                #tool_use_name = tool_use_block['name']\n",
    "                \n",
    "                print(f\"Using tool {tool_name}\")\n",
    "                \n",
    "                if tool_name == 'one_doc_retrieval':\n",
    "                    filter_query_s = tool_inputs['filter'] # filter query stored as a string instead of dictionary\n",
    "                    filter_query = json.loads(filter_query_s)\n",
    "                    retrieved_info = one_doc_retrieval(filter_query) #retrieved info type, dictionary\n",
    "                    \n",
    "                    if type(retrieved_info) == list:\n",
    "                        retrieved_info = {item['_id']:item for item in retrieved_info}\n",
    "\n",
    "                        \n",
    "                    \n",
    "                    print(type(retrieved_info))\n",
    "                    \n",
    "                    tool_response = {\n",
    "                                        \"role\": \"user\",\n",
    "                                        \"content\": [\n",
    "                                            {\n",
    "                                                \"toolResult\": {\n",
    "                                                    \"toolUseId\": tool_id,\n",
    "                                                    \"content\": [\n",
    "                                                        {\n",
    "                                                            \"json\": retrieved_info\n",
    "                                                            }\n",
    "                                                    ],\n",
    "                                                    'status':'success'\n",
    "                                                }\n",
    "                                            }\n",
    "                                        ]\n",
    "                                    }\n",
    "                    \n",
    "                    messages.append(tool_response)\n",
    "                    \n",
    "                    converse_api_params = {\n",
    "                                                \"modelId\": model_id,\n",
    "                                                \"messages\": messages,\n",
    "                                                \"inferenceConfig\": inference_config,\n",
    "                                                \"toolConfig\": toolConfig \n",
    "                                            }\n",
    "\n",
    "                    final_response = bedrock.converse(**converse_api_params) \n",
    "                    print(final_response)\n",
    "                    final_response_text = final_response['output']['message']['content'][0]['text']\n",
    "                    print(final_response_text)\n",
    "                    \n",
    "                    #eturn messages\n",
    "                    \n",
    "                    #return retrieved_info\n",
    "                    \n",
    "                #return messages\n",
    "                \n",
    "        \n",
    "        #return response_message\n",
    "        #return messages\n",
    "\n",
    "        \n",
    "    except ClientError as err:\n",
    "        message = err.response['Error']['Message']\n",
    "        print(f\"A client error occured: {message}\")"
   ]
  },
  {
   "cell_type": "code",
   "execution_count": 19,
   "id": "b3a10c4f-53df-4f87-b113-f54308fb7869",
   "metadata": {
    "tags": []
   },
   "outputs": [],
   "source": [
    "f = open('procedures_schema (1).json')\n",
    "procedures_schema = json.load(f)"
   ]
  },
  {
   "cell_type": "code",
   "execution_count": 20,
   "id": "3ddc3087-c315-4888-8b2d-c8452dce2374",
   "metadata": {
    "tags": []
   },
   "outputs": [],
   "source": [
    "f = open('../ref/subject_609281_metadata.json')\n",
    "sample_metadata= json.load(f)"
   ]
  },
  {
   "cell_type": "code",
   "execution_count": 26,
   "id": "4bdf0904-9c39-423f-8cf9-bf600229901d",
   "metadata": {
    "tags": []
   },
   "outputs": [],
   "source": [
    "user_question = \"What procedures occured in the sample metadata?\""
   ]
  },
  {
   "cell_type": "code",
   "execution_count": 27,
   "id": "03ac6316-7540-4650-a7be-37433fd9e2cf",
   "metadata": {
    "tags": []
   },
   "outputs": [],
   "source": [
    "prompt_template = f\"\"\"\n",
    "    I will provide you with a schema that contains information about the accepted inputs of variable names in a JSON file.\n",
    "    The schema is provided in a specified format and each file corresponds to a different section of an experiment.\n",
    "    Procedure schema: {procedures_schema}\n",
    "    \n",
    "    I provide you with a sample, filled out metadata schema. It contains the fields as provided in the metadata schema, and may contain missing information. \n",
    "    Sample metadata: {sample_metadata}\n",
    "    \n",
    "    Your task is to read the user's question, which will adhere to certain guidelines or formats. \n",
    "    You maybe prompted to create a NOSQL MongoDB query that parses through a document structured like the sample metadata.\n",
    "    You maybe prompted to determine missing information in the sample metadata.\n",
    "    \n",
    "    Here are some examples:\n",
    "    Input: Give me the query to find subject's whose breeding group is Chat-IRES-Cre_Jax006410\n",
    "    Output: \"subject.breeding_info.breeding_group\": \"Chat-IRES-Cre_Jax006410\"\n",
    "    \n",
    "    Note: You have to just return the query, nothing else. Provide the query in curly brackets, appropirately place quotation marks. Remove unnecessary symbols like slashes.\n",
    "    \n",
    "    Input: {user_question}\n",
    "    \"\"\"\n",
    "PREFILL = '<query>'"
   ]
  },
  {
   "cell_type": "code",
   "execution_count": 28,
   "id": "7ba4dd93-823f-4c4e-b220-579b1e0d644b",
   "metadata": {
    "tags": []
   },
   "outputs": [
    {
     "name": "stdout",
     "output_type": "stream",
     "text": [
      "{'ResponseMetadata': {'RequestId': '4099accc-a127-4948-989e-e7f1b84cd484', 'HTTPStatusCode': 200, 'HTTPHeaders': {'date': 'Mon, 19 Aug 2024 22:25:21 GMT', 'content-type': 'application/json', 'content-length': '320', 'connection': 'keep-alive', 'x-amzn-requestid': '4099accc-a127-4948-989e-e7f1b84cd484'}, 'RetryAttempts': 0}, 'output': {'message': {'role': 'assistant', 'content': [{'text': \"The sample metadata does not contain any information about procedures performed on the subject. The 'procedures' field is set to None.\"}]}}, 'stopReason': 'end_turn', 'usage': {'inputTokens': 1833, 'outputTokens': 29, 'totalTokens': 1862}, 'metrics': {'latencyMs': 1295}}\n",
      "None\n"
     ]
    }
   ],
   "source": [
    "print(get_completion(prompt_template))"
   ]
  },
  {
   "cell_type": "code",
   "execution_count": null,
   "id": "f4b7bb8e-a9d3-4ec3-b9d5-9c96da22f1c6",
   "metadata": {},
   "outputs": [],
   "source": []
  }
 ],
 "metadata": {
  "kernelspec": {
   "display_name": "Python 3 (ipykernel)",
   "language": "python",
   "name": "python3"
  },
  "language_info": {
   "codemirror_mode": {
    "name": "ipython",
    "version": 3
   },
   "file_extension": ".py",
   "mimetype": "text/x-python",
   "name": "python",
   "nbconvert_exporter": "python",
   "pygments_lexer": "ipython3",
   "version": "3.10.12"
  }
 },
 "nbformat": 4,
 "nbformat_minor": 5
}
