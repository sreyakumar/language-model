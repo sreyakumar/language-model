{
 "cells": [
  {
   "cell_type": "markdown",
   "id": "512667f3-7670-4ea9-9c7f-b5debaab6cde",
   "metadata": {},
   "source": [
    "# Initializing Claude"
   ]
  },
  {
   "cell_type": "markdown",
   "id": "46e29362-26f5-4690-a536-3b4374a5f2f7",
   "metadata": {},
   "source": [
    "## Imports"
   ]
  },
  {
   "cell_type": "code",
   "execution_count": 1,
   "id": "658c4096-b4e7-4d04-9372-2a4e6a834106",
   "metadata": {
    "tags": []
   },
   "outputs": [],
   "source": [
    "import boto3, json, os\n",
    "from pathlib import Path\n",
    "from config import toolConfig\n",
    "from aind_data_access_api.document_db import MetadataDbClient\n",
    "from aind_data_access_api.document_db_ssh import DocumentDbSSHClient, DocumentDbSSHCredentials\n",
    "from botocore.exceptions import ClientError"
   ]
  },
  {
   "cell_type": "markdown",
   "id": "5f143531-4ee3-4964-80f1-b8bbd9340282",
   "metadata": {},
   "source": [
    "## Connecting to Bedrock"
   ]
  },
  {
   "cell_type": "code",
   "execution_count": 2,
   "id": "cb660f23-f148-4571-b748-43867d790e2a",
   "metadata": {
    "tags": []
   },
   "outputs": [],
   "source": [
    "client = boto3.client(\"bedrock-runtime\", region_name=\"us-west-2\")\n",
    "model_id = \"anthropic.claude-3-sonnet-20240229-v1:0\"\n",
    "bedrock = boto3.client(\n",
    "    service_name=\"bedrock-runtime\",\n",
    "    region_name = 'us-west-2'\n",
    ")"
   ]
  },
  {
   "cell_type": "markdown",
   "id": "e2a0979e-2abc-4c8d-846b-b7a2726eed82",
   "metadata": {
    "tags": []
   },
   "source": [
    "# Loading metadata schema"
   ]
  },
  {
   "cell_type": "code",
   "execution_count": 3,
   "id": "95400351-8e06-4e4e-9913-7d5469a183c7",
   "metadata": {
    "tags": []
   },
   "outputs": [],
   "source": [
    "folder = Path(\"../ref\")\n",
    "for name in os.listdir(folder):\n",
    "    if \".json\" in name:\n",
    "        file = open(f'{folder}/{name}')\n",
    "        name = name[:-5]\n",
    "        globals()[name] = json.load(file)"
   ]
  },
  {
   "cell_type": "code",
   "execution_count": 4,
   "id": "fd9b015d-5484-4881-9dfe-5a610fa0f6e6",
   "metadata": {
    "tags": []
   },
   "outputs": [],
   "source": [
    "schema_types = [rig_schema, procedures_schema, acquisition_schema, instrument_schema, session_schema, subject_schema, data_description_schema, processing_schema, subject_609281_metadata, metadata_schema]"
   ]
  },
  {
   "cell_type": "code",
   "execution_count": 5,
   "id": "a498d056-d6ca-4cfd-9d28-2f62cadc4b16",
   "metadata": {
    "tags": []
   },
   "outputs": [],
   "source": [
    "metadata_schema = schema_types.pop()"
   ]
  },
  {
   "cell_type": "code",
   "execution_count": 6,
   "id": "1d62bd17-a4eb-41d4-8700-be5ee4a09565",
   "metadata": {
    "tags": []
   },
   "outputs": [],
   "source": [
    "sample_metadata = schema_types.pop()"
   ]
  },
  {
   "cell_type": "markdown",
   "id": "77b3200a-a76d-4409-8986-34026955df80",
   "metadata": {
    "tags": []
   },
   "source": [
    "# Connecting to DocDB API + Implementing tool use"
   ]
  },
  {
   "cell_type": "code",
   "execution_count": 7,
   "id": "c7d42a1f-872c-4809-83f0-1b4fd73f2854",
   "metadata": {
    "tags": []
   },
   "outputs": [],
   "source": [
    "API_GATEWAY_HOST = \"api.allenneuraldynamics.org\"\n",
    "DATABASE = \"metadata_index\"\n",
    "COLLECTION = \"data_assets\"\n",
    "\n",
    "docdb_api_client = MetadataDbClient(\n",
    "   host=API_GATEWAY_HOST,\n",
    "   database=DATABASE,\n",
    "   collection=COLLECTION,\n",
    ")"
   ]
  },
  {
   "cell_type": "code",
   "execution_count": 8,
   "id": "b826dabb-dcb9-4c1f-bf69-789513172ace",
   "metadata": {
    "tags": []
   },
   "outputs": [],
   "source": [
    "def doc_retrieval(filter_query):\n",
    "    '''\n",
    "    Retrieves one document from DocDB. Ideal for queries for a specific document\n",
    "    \n",
    "    :param filter_query: MongoDB Query\n",
    "    :return: JSON File\n",
    "    '''\n",
    "    limit = 1000\n",
    "    paginate_batch_size = 100\n",
    "    response = docdb_api_client.retrieve_docdb_records(\n",
    "       filter_query=filter_query,\n",
    "       limit=limit,\n",
    "       paginate_batch_size=paginate_batch_size\n",
    "    )\n",
    "    return(response)"
   ]
  },
  {
   "cell_type": "code",
   "execution_count": 24,
   "id": "1211eb56-60cd-42b2-be88-812de9d3736c",
   "metadata": {
    "tags": []
   },
   "outputs": [
    {
     "data": {
      "text/plain": [
       "[]"
      ]
     },
     "execution_count": 24,
     "metadata": {},
     "output_type": "execute_result"
    }
   ],
   "source": [
    "doc_retrieval({\"procedures.subject_procedures.procedure_type\": \"Extracellular electrophysiology\"})"
   ]
  },
  {
   "cell_type": "code",
   "execution_count": 9,
   "id": "1d2357cc-88e5-4710-b7d6-7748f5ce0e2a",
   "metadata": {
    "tags": []
   },
   "outputs": [],
   "source": [
    "def projection_retrieval(filter_query, field_name_list):\n",
    "    '''\n",
    "    Retrieves one document from DocDB. Ideal for queries for a specific document\n",
    "    \n",
    "    :param filter_query: MongoDB Query\n",
    "    :param field_name_list: List of field names to be inputted into the projection\n",
    "    :return: JSON File\n",
    "    '''\n",
    "    credentials = DocumentDbSSHCredentials()\n",
    "    with DocumentDbSSHClient(credentials=credentials) as doc_db_client:\n",
    "        filter = filter_query\n",
    "        projection = {\"name\" : 1}\n",
    "        for field_name in field_name_list:\n",
    "            projection[field_name] = 1\n",
    "        #count = doc_db_client.collection.count_documents(filter)\n",
    "        response = list(doc_db_client.collection.find(filter=filter, projection=projection))        \n",
    "    return response"
   ]
  },
  {
   "cell_type": "code",
   "execution_count": 23,
   "id": "403fdd92-ceb2-49af-98f2-587ccb995f83",
   "metadata": {
    "tags": []
   },
   "outputs": [
    {
     "data": {
      "text/plain": [
       "[]"
      ]
     },
     "execution_count": 23,
     "metadata": {},
     "output_type": "execute_result"
    }
   ],
   "source": [
    "projection_retrieval({\"procedures.subject_procedures.procedure_type\": \"Extracellular electrophysiology\"}, [\"procedures.subject_procedures.procedure_type\", \"subject.genotype\"])[:10]"
   ]
  },
  {
   "cell_type": "markdown",
   "id": "534ad05d-26cf-4b99-ab25-0f370c600ce8",
   "metadata": {},
   "source": [
    "# Implementing tool use"
   ]
  },
  {
   "cell_type": "code",
   "execution_count": 11,
   "id": "1e5c515a-93ea-485b-927c-827437e504ef",
   "metadata": {
    "tags": []
   },
   "outputs": [],
   "source": [
    "system_prompt = \"You are a neuroscientist with extensive knowledge about processes involves in neuroscience research. You are also an expert in crafting NoSQL queries for MongoDB. You must only do document retrieval with the available tool if specified.\" "
   ]
  },
  {
   "cell_type": "code",
   "execution_count": 12,
   "id": "46a26687-3609-4a1c-884f-219042399dad",
   "metadata": {
    "tags": []
   },
   "outputs": [],
   "source": [
    "def get_completion(prompt, system_prompt=system_prompt, prefill=None):\n",
    "    \n",
    "    messages = [{\"role\": \"user\", \"content\": [{\"text\": prompt}]}]\n",
    "    \n",
    "    inference_config = {\n",
    "        \"temperature\": 0,\n",
    "        \"maxTokens\": 4000\n",
    "    }\n",
    "    toolConfig = {\n",
    "                  \"tools\": [\n",
    "                      {\n",
    "                      \"toolSpec\": {\n",
    "                          \"name\": \"doc_retrieval\",\n",
    "                          \"description\": \"Retrieve entire document from docDB. To be used only when it's necessary to retrieve all information in a document\",\n",
    "                          \"inputSchema\": {\n",
    "                              \"json\": {\n",
    "                                  \"type\": \"object\",\n",
    "                                  \"properties\": {\n",
    "                                      \"filter\": {\n",
    "                                          \"type\": \"string\",\n",
    "                                          \"description\": \"A MongoDB query to pass to the function\"\n",
    "                                      }\n",
    "                                  },\n",
    "                                  \"required\": [\"filter\"]\n",
    "                              }\n",
    "                          }\n",
    "                      }\n",
    "                      },\n",
    "                      {\n",
    "                      \"toolSpec\": {\n",
    "                          \"name\": \"projection_retrieval\",\n",
    "                          \"description\": \"Retrieve multiple documents from docDB with only specific field information. Used when most of the document is not necessary to answer natural language query\",\n",
    "                          \"inputSchema\": {\n",
    "                              \"json\": {\n",
    "                                  \"type\": \"object\",\n",
    "                                  \"properties\": {\n",
    "                                      \"filter\": {\n",
    "                                          \"type\": \"string\",\n",
    "                                          \"description\": \"A MongoDB query to pass to the function\"\n",
    "                                      },\n",
    "                                      \"fieldNameList\": {\n",
    "                                          \"type\": \"string\",\n",
    "                                          \"description\": \"A list of field names following JSON format to retrieve from the document. The string shouldn't contain the value, just the key you would need to access the value in a metadata schema document.\"\n",
    "                                      }\n",
    "                                  },\n",
    "                                  \"required\": [\"filter\", \"fieldNameList\"]\n",
    "                              }\n",
    "                          }\n",
    "                      }\n",
    "                      }\n",
    "                  ],\n",
    "                    \"toolChoice\": {\n",
    "                    \"auto\":{},\n",
    "                    }\n",
    "                }\n",
    "\n",
    "    converse_api_params = {\n",
    "        \"modelId\": model_id,\n",
    "        \"messages\" : messages,\n",
    "        \"inferenceConfig\": inference_config,\n",
    "        \"toolConfig\": toolConfig\n",
    "    }\n",
    "    \n",
    "    if system_prompt:\n",
    "        converse_api_params[\"system\"] = [{\"text\": system_prompt}]\n",
    "    if prefill:\n",
    "        messages.append({\"role\": \"assistant\", \"content\": [{\"text\": prefill}]})\n",
    "        print(prefill)\n",
    "    try:\n",
    "        response = bedrock.converse(**converse_api_params)\n",
    "        print(response)\n",
    "        \n",
    "        response_message = response['output']['message']\n",
    "        \n",
    "        response_content_blocks = response_message['content']\n",
    "        \n",
    "        #Assistant reply including tool use \n",
    "        messages.append({\"role\": \"assistant\", \"content\": response_content_blocks})\n",
    "        \n",
    "        for content_block in response_content_blocks:\n",
    "            if 'toolUse' in content_block:\n",
    "                print(\"Stop Reason:\", response['stopReason'])\n",
    "                \n",
    "                tool_use = response_content_blocks[-1]\n",
    "                tool_id = tool_use['toolUse']['toolUseId']\n",
    "                tool_name = tool_use['toolUse']['name']\n",
    "                tool_inputs = tool_use['toolUse']['input']\n",
    "\n",
    "                #tool_use_block = content_block['toolUse']\n",
    "                #tool_use_name = tool_use_block['name']\n",
    "                \n",
    "                print(f\"Using tool {tool_name}\")\n",
    "                \n",
    "                if tool_inputs['filter']:\n",
    "                    filter_query_s = tool_inputs['filter'] # filter query stored as a string instead of dictionary\n",
    "                    filter_query = json.loads(filter_query_s)\n",
    "                \n",
    "                if tool_name == 'doc_retrieval':\n",
    "                    retrieved_info = doc_retrieval(filter_query) #retrieved info type, dictionary\n",
    "                    if type(retrieved_info) == list:\n",
    "                        retrieved_info = {item['_id']:item for item in retrieved_info}\n",
    "                        \n",
    "                if tool_name == 'projection_retrieval':\n",
    "                    field_name_list = (tool_inputs['fieldNameList'])\n",
    "                    retrieved_info_list = projection_retrieval(filter_query, field_name_list)\n",
    "                    retrieved_info = json.dumps(retrieved_info_list)[:1000]\n",
    "                    print(type(retrieved_info))\n",
    "\n",
    "                    tool_response = {\n",
    "                                        \"role\": \"user\",\n",
    "                                        \"content\": [\n",
    "                                            {\n",
    "                                                \"toolResult\": {\n",
    "                                                    \"toolUseId\": tool_id,\n",
    "                                                    \"content\": [\n",
    "                                                        {\n",
    "                                                            \"text\": retrieved_info\n",
    "                                                            }\n",
    "                                                    ],\n",
    "                                                    'status':'success'\n",
    "                                                }\n",
    "                                            }\n",
    "                                        ]\n",
    "                                    }\n",
    "                    \n",
    "                    messages.append(tool_response)\n",
    "                    \n",
    "                    converse_api_params = {\n",
    "                                                \"modelId\": model_id,\n",
    "                                                \"messages\": messages,\n",
    "                                                \"inferenceConfig\": inference_config,\n",
    "                                                \"toolConfig\": toolConfig \n",
    "                                            }\n",
    "\n",
    "                    final_response = bedrock.converse(**converse_api_params) \n",
    "                    print(final_response)\n",
    "                    final_response_text = final_response['output']['message']['content'][0]['text']\n",
    "                    return(final_response_text)\n",
    "                    \n",
    "                    #eturn messages\n",
    "                    \n",
    "                    #return retrieved_info\n",
    "                    \n",
    "                #return messages\n",
    "                \n",
    "        \n",
    "        #return response_message\n",
    "        #return messages\n",
    "\n",
    "        \n",
    "    except ClientError as err:\n",
    "        message = err.response['Error']['Message']\n",
    "        print(f\"A client error occured: {message}\")"
   ]
  },
  {
   "cell_type": "code",
   "execution_count": 25,
   "id": "9b4f2782-de78-4119-9760-f900c0c7aba4",
   "metadata": {
    "tags": []
   },
   "outputs": [],
   "source": [
    "user_question = \"Give me a summary of the different subject genotypes for subject undergoing ecephys\" "
   ]
  },
  {
   "cell_type": "code",
   "execution_count": 26,
   "id": "8157023f-599c-4fd9-82a1-4235e46fb7fa",
   "metadata": {
    "tags": []
   },
   "outputs": [],
   "source": [
    "prompt_template = f\"\"\"\n",
    "    I will provide you with a schema that contains information about the accepted inputs of variable names in a JSON file.\n",
    "    The schema is provided in a specified format and each file corresponds to a different section of an experiment.\n",
    "    List of schemas: {schema_types}\n",
    "    \n",
    "    The Metadata schema shows how the different schema types are arranged, and how to appropriatel access them. \n",
    "    For example, in order to access something within the procedures field, you will have to start the query with \"procedures.\"\n",
    "    Metadata schema: {metadata_schema}\n",
    "    \n",
    "    I provide you with a sample, filled out metadata schema. It may contain missing information but serves as a reference to what a metadata file looks like. \n",
    "    You can use it as a guide to better structure your queries. Word like \"false\" and \"null\" has to be in quotes.\n",
    "    Sample metadata: {sample_metadata}\n",
    "    \n",
    "    Your task is to read the user's question, which will adhere to certain guidelines or formats. \n",
    "    You maybe prompted to create a NOSQL MongoDB query that parses through a document structured like the sample metadata.\n",
    "    You maybe prompted to determine missing information in the sample metadata.\n",
    "    You maybe prompted to retrieve information from an external database, the information will be stored in json files. \n",
    "    \n",
    "    Here are some examples:\n",
    "    Input: Give me the query to find subject's whose breeding group is Chat-IRES-Cre_Jax006410\n",
    "    Output: \"subject.breeding_info.breeding_group\": \"Chat-IRES-Cre_Jax006410\"\n",
    "    \n",
    "    Note: Provide the query in curly brackets, appropirately place quotation marks.\n",
    "    Do not call tool use if not specified. \n",
    "    If there are instructions provided after document retrieval, apply the instructions on the returned output (retrieved document).\n",
    "    \n",
    "    Along with the answer, tell me a step by step process in tags as well as your reasoning in tags. \n",
    "    Including how the query was formulated.\n",
    "    \n",
    "    Input: {user_question}\n",
    "    \"\"\""
   ]
  },
  {
   "cell_type": "code",
   "execution_count": 27,
   "id": "b6bfae95-0a27-435d-a680-dc083834c441",
   "metadata": {
    "tags": []
   },
   "outputs": [
    {
     "name": "stdout",
     "output_type": "stream",
     "text": [
      "{'ResponseMetadata': {'RequestId': '6ad49118-b7ac-4d49-83dd-92c9b6aff3ad', 'HTTPStatusCode': 200, 'HTTPHeaders': {'date': 'Thu, 22 Aug 2024 22:05:51 GMT', 'content-type': 'application/json', 'content-length': '1463', 'connection': 'keep-alive', 'x-amzn-requestid': '6ad49118-b7ac-4d49-83dd-92c9b6aff3ad'}, 'RetryAttempts': 0}, 'output': {'message': {'role': 'assistant', 'content': [{'text': '<reasoning>\\nTo get a summary of the different subject genotypes for subjects undergoing extracellular electrophysiology (ecephys), we need to:\\n1. Filter the documents to only include those with the \"Extracellular electrophysiology\" modality\\n2. Extract the \"genotype\" field from the \"subject\" subdocument of those filtered documents\\n3. Get a unique list of the genotypes present\\n</reasoning>\\n\\n<steps>\\n1. Filter documents with \"Extracellular electrophysiology\" modality:\\n{\\n  \"data_description.modality.name\": \"Extracellular electrophysiology\"\\n}\\n\\n2. Project and extract \"genotype\" field:\\n{\\n  \"data_description.modality.name\": \"Extracellular electrophysiology\"\\n},\\n{\\n  \"$project\": {\\n    \"genotype\": \"$subject.genotype\"\\n  }\\n}\\n\\n3. Get unique genotypes:\\n{\\n  \"data_description.modality.name\": \"Extracellular electrophysiology\"\\n},\\n{\\n  \"$project\": {\\n    \"genotype\": \"$subject.genotype\"\\n  }\\n},\\n{\\n  \"$group\": {\\n    \"_id\": \"$genotype\"\\n  }\\n}\\n</steps>'}, {'toolUse': {'toolUseId': 'tooluse_Ks8-zPAnRxWs6x2XiaOvoA', 'name': 'projection_retrieval', 'input': {'fieldNameList': '[\"data_description.modality.name\", \"subject.genotype\"]', 'filter': '{\"data_description.modality.name\": \"Extracellular electrophysiology\"}'}}}]}}, 'stopReason': 'tool_use', 'usage': {'inputTokens': 16560, 'outputTokens': 408, 'totalTokens': 16968}, 'metrics': {'latencyMs': 12391}}\n",
      "Stop Reason: tool_use\n",
      "Using tool projection_retrieval\n",
      "<class 'str'>\n",
      "{'ResponseMetadata': {'RequestId': '3e8edbab-f347-436d-9030-b21bc007da93', 'HTTPStatusCode': 200, 'HTTPHeaders': {'date': 'Thu, 22 Aug 2024 22:06:02 GMT', 'content-type': 'application/json', 'content-length': '774', 'connection': 'keep-alive', 'x-amzn-requestid': '3e8edbab-f347-436d-9030-b21bc007da93'}, 'RetryAttempts': 0}, 'output': {'message': {'role': 'assistant', 'content': [{'text': '<result>\\nBased on the retrieved data, the unique genotypes for subjects undergoing extracellular electrophysiology are:\\n\\n[\"Slc17a6-IRES-Cre/wt\", \"Slc17a7-IRES-Cre/wt\", \"Slc32a1-IRES-Cre/wt\", \"Slc17a6-IRES-Cre/Slc17a6-IRES-Cre\", \"Slc32a1-IRES-Cre/Slc32a1-IRES-Cre\"]\\n</result>\\n\\nThe key steps were:\\n<steps>\\n1. Filter documents with the \"Extracellular electrophysiology\" modality to only consider relevant data\\n2. Project and extract the \"genotype\" field from the subject subdocument\\n3. Group the results by the unique \"genotype\" values to get a summary\\n</steps>'}]}}, 'stopReason': 'end_turn', 'usage': {'inputTokens': 17522, 'outputTokens': 231, 'totalTokens': 17753}, 'metrics': {'latencyMs': 9373}}\n"
     ]
    },
    {
     "data": {
      "text/plain": [
       "'<result>\\nBased on the retrieved data, the unique genotypes for subjects undergoing extracellular electrophysiology are:\\n\\n[\"Slc17a6-IRES-Cre/wt\", \"Slc17a7-IRES-Cre/wt\", \"Slc32a1-IRES-Cre/wt\", \"Slc17a6-IRES-Cre/Slc17a6-IRES-Cre\", \"Slc32a1-IRES-Cre/Slc32a1-IRES-Cre\"]\\n</result>\\n\\nThe key steps were:\\n<steps>\\n1. Filter documents with the \"Extracellular electrophysiology\" modality to only consider relevant data\\n2. Project and extract the \"genotype\" field from the subject subdocument\\n3. Group the results by the unique \"genotype\" values to get a summary\\n</steps>'"
      ]
     },
     "execution_count": 27,
     "metadata": {},
     "output_type": "execute_result"
    }
   ],
   "source": [
    "get_completion(prompt_template)"
   ]
  },
  {
   "cell_type": "code",
   "execution_count": 19,
   "id": "fd8bbf1d-2047-4d2d-98ad-cada40aab63e",
   "metadata": {
    "tags": []
   },
   "outputs": [],
   "source": [
    "messages_list = []"
   ]
  },
  {
   "cell_type": "code",
   "execution_count": 72,
   "id": "4a63696f-6210-4375-9fcf-5c2d6128454d",
   "metadata": {
    "tags": []
   },
   "outputs": [],
   "source": [
    "def get_completion(prompt, system_prompt=None, prefill=None):\n",
    "    inference_config = {\n",
    "        \"temperature\": 0,\n",
    "        \"maxTokens\": 200\n",
    "    }\n",
    "    converse_api_params = {\n",
    "        \"modelId\": model_id,\n",
    "        \"messages\": [{\"role\": \"user\", \"content\": [{\"text\": prompt}]}],\n",
    "        \"inferenceConfig\": inference_config,\n",
    "        \"toolConfig\": toolConfig\n",
    "    }\n",
    "    \n",
    "    message_list.append(f\"User: {prompt}\\n\")\n",
    "    \n",
    "    if system_prompt:\n",
    "        converse_api_params[\"system\"] = [{\"text\": system_prompt}]\n",
    "    if prefill:\n",
    "        converse_api_params[\"messages\"].append({\"role\": \"assistant\", \"content\": [{\"text\": prefill}]})\n",
    "        print(prefill)\n",
    "    try:\n",
    "        response = bedrock.converse(**converse_api_params)\n",
    "        \n",
    "        print(\"Stop Reason:\", response['stopReason'])\n",
    "        \n",
    "        response_message = response['output']['message']\n",
    "        print(response_message)\n",
    "        \n",
    "        response_content_blocks = response_message['content']\n",
    "        for content_block in response_content_blocks:\n",
    "            if 'toolUse' in content_block:\n",
    "                tool_use_block = content_block['toolUse']\n",
    "                tool_use_name = tool_use_block['name']\n",
    "                \n",
    "                print(f\"Using tool {tool_use_name}\")\n",
    "                \n",
    "                if tool_use_name == 'docdb_retrieval':\n",
    "                    filter_query_s = tool_use_block['input']['filter'] # filter query stored as a string instead of dictionary\n",
    "                    filter_query = json.loads(filter_query_s)\n",
    "                    retrieved_info = docdb_retrieval(filter_query)\n",
    "                    message_list.append(f\"Assistant: {retrieved_info}\\n\")\n",
    "                    return retrieved_info\n",
    "        return response_message\n",
    "\n",
    "    except ClientError as err:\n",
    "        message = err.response['Error']['Message']\n",
    "        print(f\"A client error occured: {message}\")"
   ]
  },
  {
   "cell_type": "code",
   "execution_count": 18,
   "id": "3be2c915-f95a-4eac-bda3-09780fed3892",
   "metadata": {
    "tags": []
   },
   "outputs": [
    {
     "ename": "NameError",
     "evalue": "name 'tool_id' is not defined",
     "output_type": "error",
     "traceback": [
      "\u001b[0;31m---------------------------------------------------------------------------\u001b[0m",
      "\u001b[0;31mNameError\u001b[0m                                 Traceback (most recent call last)",
      "Cell \u001b[0;32mIn[18], line 6\u001b[0m\n\u001b[1;32m      1\u001b[0m tool_response \u001b[38;5;241m=\u001b[39m {\n\u001b[1;32m      2\u001b[0m     \u001b[38;5;124m\"\u001b[39m\u001b[38;5;124mrole\u001b[39m\u001b[38;5;124m\"\u001b[39m: \u001b[38;5;124m\"\u001b[39m\u001b[38;5;124muser\u001b[39m\u001b[38;5;124m\"\u001b[39m,\n\u001b[1;32m      3\u001b[0m     \u001b[38;5;124m\"\u001b[39m\u001b[38;5;124mcontent\u001b[39m\u001b[38;5;124m\"\u001b[39m: [\n\u001b[1;32m      4\u001b[0m         {\n\u001b[1;32m      5\u001b[0m             \u001b[38;5;124m\"\u001b[39m\u001b[38;5;124mtoolResult\u001b[39m\u001b[38;5;124m\"\u001b[39m: {\n\u001b[0;32m----> 6\u001b[0m                 \u001b[38;5;124m\"\u001b[39m\u001b[38;5;124mtoolUseId\u001b[39m\u001b[38;5;124m\"\u001b[39m: \u001b[43mtool_id\u001b[49m,\n\u001b[1;32m      7\u001b[0m                 \u001b[38;5;124m\"\u001b[39m\u001b[38;5;124mcontent\u001b[39m\u001b[38;5;124m\"\u001b[39m: [\n\u001b[1;32m      8\u001b[0m                     {\n\u001b[1;32m      9\u001b[0m                         \u001b[38;5;124m\"\u001b[39m\u001b[38;5;124mtext\u001b[39m\u001b[38;5;124m\"\u001b[39m: wiki_result\n\u001b[1;32m     10\u001b[0m                         }\n\u001b[1;32m     11\u001b[0m                 ]\n\u001b[1;32m     12\u001b[0m             }\n\u001b[1;32m     13\u001b[0m         }\n\u001b[1;32m     14\u001b[0m     ]\n\u001b[1;32m     15\u001b[0m }\n",
      "\u001b[0;31mNameError\u001b[0m: name 'tool_id' is not defined"
     ]
    }
   ],
   "source": [
    "tool_response = {\n",
    "    \"role\": \"user\",\n",
    "    \"content\": [\n",
    "        {\n",
    "            \"toolResult\": {\n",
    "                \"toolUseId\": tool_id,\n",
    "                \"content\": [\n",
    "                    {\n",
    "                        \"text\": wiki_result\n",
    "                        }\n",
    "                ]\n",
    "            }\n",
    "        }\n",
    "    ]\n",
    "}"
   ]
  },
  {
   "cell_type": "code",
   "execution_count": null,
   "id": "7288dbb3-43e1-49d8-917e-1d2759e4495f",
   "metadata": {},
   "outputs": [],
   "source": []
  },
  {
   "cell_type": "code",
   "execution_count": null,
   "id": "ec9a8b35-5a63-4e5e-b135-0978c2b97a98",
   "metadata": {},
   "outputs": [],
   "source": []
  }
 ],
 "metadata": {
  "kernelspec": {
   "display_name": "Python 3 (ipykernel)",
   "language": "python",
   "name": "python3"
  },
  "language_info": {
   "codemirror_mode": {
    "name": "ipython",
    "version": 3
   },
   "file_extension": ".py",
   "mimetype": "text/x-python",
   "name": "python",
   "nbconvert_exporter": "python",
   "pygments_lexer": "ipython3",
   "version": "3.10.12"
  }
 },
 "nbformat": 4,
 "nbformat_minor": 5
}
